{
  "nbformat": 4,
  "nbformat_minor": 0,
  "metadata": {
    "colab": {
      "name": "URL To Google Drive.ipynb",
      "provenance": []
    },
    "kernelspec": {
      "name": "python3",
      "display_name": "Python 3"
    },
    "accelerator": "TPU"
  },
  "cells": [
    {
      "cell_type": "markdown",
      "metadata": {
        "id": "CFFPQjl-iX0m",
        "colab_type": "text"
      },
      "source": [
        "# **STEP 1 - First Mount Your Google Drive** \n",
        "\n",
        "---\n",
        "\n",
        "<img src=\"https://img.icons8.com/color/96/000000/google-drive.png\"/>\n",
        "\n"
      ]
    },
    {
      "cell_type": "code",
      "metadata": {
        "id": "TfWtGXmqbggL",
        "colab_type": "code",
        "colab": {}
      },
      "source": [
        "from google.colab import drive\n",
        "drive.mount('/content/drive')"
      ],
      "execution_count": 0,
      "outputs": []
    },
    {
      "cell_type": "markdown",
      "metadata": {
        "id": "tXwE08QHy_TI",
        "colab_type": "text"
      },
      "source": [
        "# **STEP 2 - Run The Below Cell To Upload File Google Drive** \n",
        "\n",
        "---\n",
        "\n",
        "<img src=\"https://img.icons8.com/fluent/96/000000/folder-invoices.png\"/>"
      ]
    },
    {
      "cell_type": "code",
      "metadata": {
        "id": "AR2QkIqRX7bg",
        "colab_type": "code",
        "colab": {}
      },
      "source": [
        "import requests \n",
        "file_url = \"Paste download link here\"\n",
        "    \n",
        "r = requests.get(file_url, stream = True) \n",
        " \n",
        "with open(\"/content/drive/My Drive/Paste file name with extention here\", \"wb\") as file: \n",
        "    for block in r.iter_content(chunk_size = 1024): \n",
        "        if block: \n",
        "            file.write(block)"
      ],
      "execution_count": 0,
      "outputs": []
    }
  ]
}